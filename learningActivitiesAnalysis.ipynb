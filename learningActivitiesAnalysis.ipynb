{
 "cells": [
  {
   "attachments": {},
   "cell_type": "markdown",
   "metadata": {},
   "source": [
    "# Analysis on the learning activities survey"
   ]
  },
  {
   "cell_type": "code",
   "execution_count": 2,
   "metadata": {},
   "outputs": [],
   "source": [
    "import numpy as np\n",
    "import pandas as pd\n",
    "import matplotlib.pyplot as plt"
   ]
  },
  {
   "cell_type": "code",
   "execution_count": 3,
   "metadata": {},
   "outputs": [],
   "source": [
    "dataPath = 'data\\LearningActivitiesSurveyNumeric2023.csv'\n",
    "data_raw = pd.read_csv(dataPath)"
   ]
  },
  {
   "cell_type": "code",
   "execution_count": 4,
   "metadata": {},
   "outputs": [
    {
     "data": {
      "text/plain": [
       "Index(['StartDate', 'EndDate', 'Status', 'IPAddress', 'Progress',\n",
       "       'Duration (in seconds)', 'Finished', 'RecordedDate', 'ResponseId',\n",
       "       'RecipientLastName', 'RecipientFirstName', 'RecipientEmail',\n",
       "       'ExternalReference', 'LocationLatitude', 'LocationLongitude',\n",
       "       'DistributionChannel', 'UserLanguage', 'Q3', 'Q4', 'Q5', 'Q6', 'Q10_1',\n",
       "       'Q10_2', 'Q10_3', 'Q10_4', 'Q10_5', 'Q10_6', 'Q11_1', 'Q11_2', 'Q11_3',\n",
       "       'Q11_4', 'Q11_5', 'Q11_6', 'Q11', 'Q2_1', 'Q2_2', 'Q2_3', 'Q2_4',\n",
       "       'Q2_5', 'Q2_6', 'Q1', 'Q12', 'Q13_1', 'Q13_2', 'Q13_3', 'Q13_4',\n",
       "       'Q13_5', 'Q12.1'],\n",
       "      dtype='object')"
      ]
     },
     "execution_count": 4,
     "metadata": {},
     "output_type": "execute_result"
    }
   ],
   "source": [
    "data_raw.columns"
   ]
  },
  {
   "cell_type": "code",
   "execution_count": 5,
   "metadata": {},
   "outputs": [],
   "source": [
    "#remove all unfinished responses\n",
    "completion = data_raw['Finished']"
   ]
  },
  {
   "cell_type": "code",
   "execution_count": 6,
   "metadata": {},
   "outputs": [],
   "source": [
    "# Throwing away unimportant data\n",
    "useful_data = data_raw.iloc[:, 17:]"
   ]
  },
  {
   "cell_type": "code",
   "execution_count": 7,
   "metadata": {},
   "outputs": [],
   "source": [
    "# adding completion back to the dataframe\n",
    "# all 69 responses\n",
    "# beware only row 2 onwards are data\n",
    "useful_data_all = useful_data.merge(completion, left_index=True, right_index=True).iloc[2:, :]\n",
    "\n",
    "# filtering out unfinished response --> dataframe with only 56 complete responses\n",
    "useful_data_finished = useful_data_all[useful_data_all['Finished'] == \"1\"]"
   ]
  },
  {
   "cell_type": "code",
   "execution_count": 8,
   "metadata": {},
   "outputs": [
    {
     "name": "stdout",
     "output_type": "stream",
     "text": [
      "<class 'pandas.core.frame.DataFrame'>\n",
      "RangeIndex: 69 entries, 2 to 70\n",
      "Data columns (total 32 columns):\n",
      " #   Column    Non-Null Count  Dtype \n",
      "---  ------    --------------  ----- \n",
      " 0   Q3        69 non-null     object\n",
      " 1   Q4        69 non-null     object\n",
      " 2   Q5        67 non-null     object\n",
      " 3   Q6        67 non-null     object\n",
      " 4   Q10_1     60 non-null     object\n",
      " 5   Q10_2     60 non-null     object\n",
      " 6   Q10_3     60 non-null     object\n",
      " 7   Q10_4     60 non-null     object\n",
      " 8   Q10_5     60 non-null     object\n",
      " 9   Q10_6     60 non-null     object\n",
      " 10  Q11_1     60 non-null     object\n",
      " 11  Q11_2     60 non-null     object\n",
      " 12  Q11_3     60 non-null     object\n",
      " 13  Q11_4     60 non-null     object\n",
      " 14  Q11_5     60 non-null     object\n",
      " 15  Q11_6     60 non-null     object\n",
      " 16  Q11       12 non-null     object\n",
      " 17  Q2_1      58 non-null     object\n",
      " 18  Q2_2      58 non-null     object\n",
      " 19  Q2_3      58 non-null     object\n",
      " 20  Q2_4      58 non-null     object\n",
      " 21  Q2_5      58 non-null     object\n",
      " 22  Q2_6      58 non-null     object\n",
      " 23  Q1        58 non-null     object\n",
      " 24  Q12       6 non-null      object\n",
      " 25  Q13_1     56 non-null     object\n",
      " 26  Q13_2     56 non-null     object\n",
      " 27  Q13_3     56 non-null     object\n",
      " 28  Q13_4     56 non-null     object\n",
      " 29  Q13_5     56 non-null     object\n",
      " 30  Q12.1     7 non-null      object\n",
      " 31  Finished  69 non-null     object\n",
      "dtypes: object(32)\n",
      "memory usage: 17.4+ KB\n"
     ]
    }
   ],
   "source": [
    "useful_data_all.info()"
   ]
  },
  {
   "attachments": {},
   "cell_type": "markdown",
   "metadata": {},
   "source": [
    "## Analysis by questions"
   ]
  },
  {
   "attachments": {},
   "cell_type": "markdown",
   "metadata": {},
   "source": [
    "### Background info"
   ]
  },
  {
   "cell_type": "code",
   "execution_count": 9,
   "metadata": {},
   "outputs": [
    {
     "name": "stdout",
     "output_type": "stream",
     "text": [
      "<class 'pandas.core.frame.DataFrame'>\n",
      "RangeIndex: 69 entries, 2 to 70\n",
      "Data columns (total 4 columns):\n",
      " #   Column  Non-Null Count  Dtype \n",
      "---  ------  --------------  ----- \n",
      " 0   Q3      69 non-null     object\n",
      " 1   Q4      69 non-null     object\n",
      " 2   Q5      67 non-null     object\n",
      " 3   Q6      67 non-null     object\n",
      "dtypes: object(4)\n",
      "memory usage: 2.3+ KB\n"
     ]
    }
   ],
   "source": [
    "background_info_df = useful_data_all.iloc[:, :4]\n",
    "background_info_df.info()"
   ]
  },
  {
   "attachments": {},
   "cell_type": "markdown",
   "metadata": {},
   "source": [
    "### Concepts\n"
   ]
  },
  {
   "cell_type": "code",
   "execution_count": 10,
   "metadata": {},
   "outputs": [
    {
     "name": "stdout",
     "output_type": "stream",
     "text": [
      "<class 'pandas.core.frame.DataFrame'>\n",
      "Int64Index: 60 entries, 2 to 68\n",
      "Data columns (total 6 columns):\n",
      " #   Column  Non-Null Count  Dtype \n",
      "---  ------  --------------  ----- \n",
      " 0   Q10_1   60 non-null     object\n",
      " 1   Q10_2   60 non-null     object\n",
      " 2   Q10_3   60 non-null     object\n",
      " 3   Q10_4   60 non-null     object\n",
      " 4   Q10_5   60 non-null     object\n",
      " 5   Q10_6   60 non-null     object\n",
      "dtypes: object(6)\n",
      "memory usage: 3.3+ KB\n"
     ]
    }
   ],
   "source": [
    "concepts_df = useful_data_all.iloc[:, 4:10].dropna()\n",
    "concepts_df.info()"
   ]
  },
  {
   "cell_type": "code",
   "execution_count": 11,
   "metadata": {},
   "outputs": [
    {
     "data": {
      "text/plain": [
       "Index(['Q10_1', 'Q10_2', 'Q10_3', 'Q10_4', 'Q10_5', 'Q10_6'], dtype='object')"
      ]
     },
     "execution_count": 11,
     "metadata": {},
     "output_type": "execute_result"
    }
   ],
   "source": [
    "concepts_df.columns"
   ]
  },
  {
   "cell_type": "code",
   "execution_count": 12,
   "metadata": {},
   "outputs": [
    {
     "data": {
      "text/plain": [
       "5"
      ]
     },
     "execution_count": 12,
     "metadata": {},
     "output_type": "execute_result"
    }
   ],
   "source": [
    "concepts_df['Q10_1'] = concepts_df['Q10_1'].astype(int)\n",
    "(concepts_df['Q10_1'] == 2).sum()"
   ]
  },
  {
   "attachments": {},
   "cell_type": "markdown",
   "metadata": {},
   "source": [
    "<ul>what do I want to do\n",
    "    <li>mean and std for each one- average and spread</li>\n",
    "    <li>percentage of people voted bigger than 4, percentage of people voted 5 - extreme</li>\n",
    "    <li>percentage of people voted smaller than 2, percentage of people voted 1 - extreme</li>\n",
    " </ul>"
   ]
  },
  {
   "cell_type": "code",
   "execution_count": 13,
   "metadata": {},
   "outputs": [],
   "source": [
    "def calculate(series):\n",
    "    \"\"\"\n",
    "    This function aims to calculate six things \n",
    "    1. mean of a series\n",
    "    2. standard deviation of a series\n",
    "    3. percentage of people voted 4 and 5\n",
    "    4. percentage of people voted 5\n",
    "    5. percentage of people voted 1 and 2\n",
    "    6. percentage of people voted 1\n",
    "\n",
    "    INPUT\n",
    "    -------------\n",
    "    series: a pandas series\n",
    "\n",
    "    OUTPUT\n",
    "    -------------\n",
    "    A numpy array of the following:\n",
    "    mean: float, mean of the series\n",
    "    std: float, standard deviation of a series\n",
    "    p45: float, percentage of people voted 4 and 5\n",
    "    p5: float, percentage of people voted 5\n",
    "    p12: float, percentage of people voted 1 and 2\n",
    "    p1: float, percentage of people voted 1\n",
    "    \"\"\"\n",
    "    #convert the series into integer \n",
    "    series = series.astype(int)\n",
    "    mean = series.mean()\n",
    "    std = series.std()\n",
    "\n",
    "    all_count = series.size\n",
    "    count_1 = (series == 1).sum()\n",
    "    count_2 = (series == 2).sum()\n",
    "    count_4 = (series == 4).sum()\n",
    "    count_5 = (series == 5).sum()\n",
    "\n",
    "    p45 = ((count_4 + count_5) / all_count)*100\n",
    "    p5 = ((count_5) / all_count)*100\n",
    "    p12 = ((count_1 + count_2) / all_count)*100\n",
    "    p1 = ((count_1) / all_count)*100\n",
    "\n",
    "    return np.array([mean, std, p45, p5, p12, p1])\n"
   ]
  },
  {
   "cell_type": "code",
   "execution_count": 14,
   "metadata": {},
   "outputs": [],
   "source": [
    "data_type_n_struc = calculate(concepts_df[\"Q10_1\"])\n",
    "flow_control = calculate(concepts_df[\"Q10_2\"])\n",
    "variables = calculate(concepts_df[\"Q10_3\"])\n",
    "syntax = calculate(concepts_df[\"Q10_4\"])\n",
    "functions = calculate(concepts_df[\"Q10_5\"])\n",
    "oop = calculate(concepts_df[\"Q10_6\"])"
   ]
  },
  {
   "cell_type": "code",
   "execution_count": 15,
   "metadata": {},
   "outputs": [],
   "source": [
    "concepts_dict = {'Data types and structures': data_type_n_struc,\n",
    "                'Flow control structures' : flow_control,\n",
    "                'Variables declaration' : variables,\n",
    "                'Basic syntax' : syntax,\n",
    "                'Functions' : functions,\n",
    "                'Object-oriented programming' : oop\n",
    "} "
   ]
  },
  {
   "cell_type": "code",
   "execution_count": 16,
   "metadata": {},
   "outputs": [],
   "source": [
    "concepts_result_df = pd.DataFrame(concepts_dict, index = ['mean', 'std', 'percent voted 4 or greater', 'percent voted 5', 'percent voted 2 or lower', 'percent voted 1'])"
   ]
  },
  {
   "cell_type": "code",
   "execution_count": 17,
   "metadata": {},
   "outputs": [
    {
     "data": {
      "text/html": [
       "<div>\n",
       "<style scoped>\n",
       "    .dataframe tbody tr th:only-of-type {\n",
       "        vertical-align: middle;\n",
       "    }\n",
       "\n",
       "    .dataframe tbody tr th {\n",
       "        vertical-align: top;\n",
       "    }\n",
       "\n",
       "    .dataframe thead th {\n",
       "        text-align: right;\n",
       "    }\n",
       "</style>\n",
       "<table border=\"1\" class=\"dataframe\">\n",
       "  <thead>\n",
       "    <tr style=\"text-align: right;\">\n",
       "      <th></th>\n",
       "      <th>Data types and structures</th>\n",
       "      <th>Flow control structures</th>\n",
       "      <th>Variables declaration</th>\n",
       "      <th>Basic syntax</th>\n",
       "      <th>Functions</th>\n",
       "      <th>Object-oriented programming</th>\n",
       "    </tr>\n",
       "  </thead>\n",
       "  <tbody>\n",
       "    <tr>\n",
       "      <th>mean</th>\n",
       "      <td>3.850000</td>\n",
       "      <td>3.700000</td>\n",
       "      <td>3.100000</td>\n",
       "      <td>3.616667</td>\n",
       "      <td>3.950000</td>\n",
       "      <td>3.350000</td>\n",
       "    </tr>\n",
       "    <tr>\n",
       "      <th>std</th>\n",
       "      <td>0.860134</td>\n",
       "      <td>1.168804</td>\n",
       "      <td>1.244650</td>\n",
       "      <td>1.208608</td>\n",
       "      <td>1.032112</td>\n",
       "      <td>1.190713</td>\n",
       "    </tr>\n",
       "    <tr>\n",
       "      <th>percent voted 4 or greater</th>\n",
       "      <td>71.666667</td>\n",
       "      <td>63.333333</td>\n",
       "      <td>38.333333</td>\n",
       "      <td>58.333333</td>\n",
       "      <td>75.000000</td>\n",
       "      <td>46.666667</td>\n",
       "    </tr>\n",
       "    <tr>\n",
       "      <th>percent voted 5</th>\n",
       "      <td>21.666667</td>\n",
       "      <td>30.000000</td>\n",
       "      <td>18.333333</td>\n",
       "      <td>30.000000</td>\n",
       "      <td>33.333333</td>\n",
       "      <td>18.333333</td>\n",
       "    </tr>\n",
       "    <tr>\n",
       "      <th>percent voted 2 or lower</th>\n",
       "      <td>8.333333</td>\n",
       "      <td>20.000000</td>\n",
       "      <td>40.000000</td>\n",
       "      <td>23.333333</td>\n",
       "      <td>10.000000</td>\n",
       "      <td>20.000000</td>\n",
       "    </tr>\n",
       "    <tr>\n",
       "      <th>percent voted 1</th>\n",
       "      <td>0.000000</td>\n",
       "      <td>3.333333</td>\n",
       "      <td>6.666667</td>\n",
       "      <td>3.333333</td>\n",
       "      <td>3.333333</td>\n",
       "      <td>10.000000</td>\n",
       "    </tr>\n",
       "  </tbody>\n",
       "</table>\n",
       "</div>"
      ],
      "text/plain": [
       "                            Data types and structures  \\\n",
       "mean                                         3.850000   \n",
       "std                                          0.860134   \n",
       "percent voted 4 or greater                  71.666667   \n",
       "percent voted 5                             21.666667   \n",
       "percent voted 2 or lower                     8.333333   \n",
       "percent voted 1                              0.000000   \n",
       "\n",
       "                            Flow control structures  Variables declaration  \\\n",
       "mean                                       3.700000               3.100000   \n",
       "std                                        1.168804               1.244650   \n",
       "percent voted 4 or greater                63.333333              38.333333   \n",
       "percent voted 5                           30.000000              18.333333   \n",
       "percent voted 2 or lower                  20.000000              40.000000   \n",
       "percent voted 1                            3.333333               6.666667   \n",
       "\n",
       "                            Basic syntax  Functions  \\\n",
       "mean                            3.616667   3.950000   \n",
       "std                             1.208608   1.032112   \n",
       "percent voted 4 or greater     58.333333  75.000000   \n",
       "percent voted 5                30.000000  33.333333   \n",
       "percent voted 2 or lower       23.333333  10.000000   \n",
       "percent voted 1                 3.333333   3.333333   \n",
       "\n",
       "                            Object-oriented programming  \n",
       "mean                                           3.350000  \n",
       "std                                            1.190713  \n",
       "percent voted 4 or greater                    46.666667  \n",
       "percent voted 5                               18.333333  \n",
       "percent voted 2 or lower                      20.000000  \n",
       "percent voted 1                               10.000000  "
      ]
     },
     "execution_count": 17,
     "metadata": {},
     "output_type": "execute_result"
    }
   ],
   "source": [
    "concepts_result_df"
   ]
  },
  {
   "attachments": {},
   "cell_type": "markdown",
   "metadata": {},
   "source": [
    "https://towardsdatascience.com/making-matplotlib-beautiful-by-default-d0d41e3534fd"
   ]
  },
  {
   "cell_type": "code",
   "execution_count": 19,
   "metadata": {},
   "outputs": [
    {
     "data": {
      "image/png": "[encoded data removed]",
      "text/plain": [
       "<Figure size 432x288 with 1 Axes>"
      ]
     },
     "metadata": {
      "needs_background": "light"
     },
     "output_type": "display_data"
    }
   ],
   "source": [
    "concepts = concepts_result_df.columns\n",
    "mean = concepts_result_df.iloc[0,:]\n",
    "std = concepts_result_df.iloc[1,:]\n",
    "# Fixing random state for reproducibility\n",
    "np.random.seed(19680801)\n",
    "\n",
    "CB91_Blue = '#2CBDFE'\n",
    "CB91_Green = '#47DBCD'\n",
    "CB91_Pink = '#F3A0F2'\n",
    "CB91_Purple = '#9D2EC5'\n",
    "CB91_Violet = '#661D98'\n",
    "CB91_Amber = '#F5B14C'\n",
    "color_list = [CB91_Blue, CB91_Pink, CB91_Green, CB91_Amber,\n",
    "              CB91_Purple, CB91_Violet]\n",
    "plt.rcParams['axes.prop_cycle'] = plt.cycler(color=color_list)\n",
    "fig, ax = plt.subplots()\n",
    "\n",
    "# Example data\n",
    "y_pos = np.arange(len(concepts))\n",
    "\n",
    "ax.barh(y_pos, mean, xerr=std, align='center')\n",
    "ax.set_yticks(y_pos, labels=concepts)\n",
    "ax.invert_yaxis()  # labels read top-to-bottom\n",
    "ax.set_xlabel('Mean')\n",
    "ax.set_title('The importance of each concept to students')\n",
    "\n",
    "plt.show()"
   ]
  },
  {
   "attachments": {},
   "cell_type": "markdown",
   "metadata": {},
   "source": [
    "### Topics"
   ]
  },
  {
   "cell_type": "code",
   "execution_count": 25,
   "metadata": {},
   "outputs": [
    {
     "name": "stdout",
     "output_type": "stream",
     "text": [
      "<class 'pandas.core.frame.DataFrame'>\n",
      "Int64Index: 62 entries, 0 to 68\n",
      "Data columns (total 6 columns):\n",
      " #   Column  Non-Null Count  Dtype \n",
      "---  ------  --------------  ----- \n",
      " 0   Q11_1   62 non-null     object\n",
      " 1   Q11_2   62 non-null     object\n",
      " 2   Q11_3   62 non-null     object\n",
      " 3   Q11_4   62 non-null     object\n",
      " 4   Q11_5   62 non-null     object\n",
      " 5   Q11_6   62 non-null     object\n",
      "dtypes: object(6)\n",
      "memory usage: 3.4+ KB\n"
     ]
    }
   ],
   "source": [
    "topics_df = useful_data_all.iloc[:, 10:16].dropna()\n",
    "topics_df[]"
   ]
  },
  {
   "attachments": {},
   "cell_type": "markdown",
   "metadata": {},
   "source": [
    "### Learning activities"
   ]
  },
  {
   "cell_type": "code",
   "execution_count": 26,
   "metadata": {},
   "outputs": [
    {
     "name": "stdout",
     "output_type": "stream",
     "text": [
      "<class 'pandas.core.frame.DataFrame'>\n",
      "Int64Index: 60 entries, 0 to 68\n",
      "Data columns (total 6 columns):\n",
      " #   Column  Non-Null Count  Dtype \n",
      "---  ------  --------------  ----- \n",
      " 0   Q2_1    60 non-null     object\n",
      " 1   Q2_2    60 non-null     object\n",
      " 2   Q2_3    60 non-null     object\n",
      " 3   Q2_4    60 non-null     object\n",
      " 4   Q2_5    60 non-null     object\n",
      " 5   Q2_6    60 non-null     object\n",
      "dtypes: object(6)\n",
      "memory usage: 3.3+ KB\n"
     ]
    }
   ],
   "source": [
    "activities_df = useful_data_all.iloc[:, 17: 23].dropna()\n",
    "activities_df.info()"
   ]
  },
  {
   "attachments": {},
   "cell_type": "markdown",
   "metadata": {},
   "source": [
    "### Feedback"
   ]
  },
  {
   "cell_type": "code",
   "execution_count": 15,
   "metadata": {},
   "outputs": [
    {
     "name": "stdout",
     "output_type": "stream",
     "text": [
      "<class 'pandas.core.frame.DataFrame'>\n",
      "Int64Index: 58 entries, 0 to 62\n",
      "Data columns (total 5 columns):\n",
      " #   Column  Non-Null Count  Dtype \n",
      "---  ------  --------------  ----- \n",
      " 0   Q13_1   58 non-null     object\n",
      " 1   Q13_2   58 non-null     object\n",
      " 2   Q13_3   58 non-null     object\n",
      " 3   Q13_4   58 non-null     object\n",
      " 4   Q13_5   58 non-null     object\n",
      "dtypes: object(5)\n",
      "memory usage: 2.7+ KB\n"
     ]
    }
   ],
   "source": [
    "feedback_df = useful_data_all.iloc[:, 25:30].dropna()\n",
    "feedback_df.info()"
   ]
  },
  {
   "attachments": {},
   "cell_type": "markdown",
   "metadata": {},
   "source": [
    "## Analysis by year groups"
   ]
  },
  {
   "cell_type": "markdown",
   "metadata": {},
   "source": []
  }
 ],
 "metadata": {
  "kernelspec": {
   "display_name": "Python 3",
   "language": "python",
   "name": "python3"
  },
  "language_info": {
   "codemirror_mode": {
    "name": "ipython",
    "version": 3
   },
   "file_extension": ".py",
   "mimetype": "text/x-python",
   "name": "python",
   "nbconvert_exporter": "python",
   "pygments_lexer": "ipython3",
   "version": "3.10.2"
  },
  "orig_nbformat": 4
 },
 "nbformat": 4,
 "nbformat_minor": 2
}
