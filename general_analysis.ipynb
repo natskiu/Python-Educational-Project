{
 "cells": [
  {
   "cell_type": "code",
   "execution_count": 2,
   "metadata": {},
   "outputs": [],
   "source": [
    "import numpy as np\n",
    "import pandas as pd\n",
    "import matplotlib.pyplot as plt"
   ]
  },
  {
   "cell_type": "code",
   "execution_count": 3,
   "metadata": {},
   "outputs": [],
   "source": [
    "dataPath = 'data\\GeneralSurveyNumeric2023.csv'\n",
    "data_raw = pd.read_csv(dataPath)"
   ]
  },
  {
   "cell_type": "code",
   "execution_count": 10,
   "metadata": {},
   "outputs": [
    {
     "data": {
      "text/plain": [
       "(152, 35)"
      ]
     },
     "execution_count": 10,
     "metadata": {},
     "output_type": "execute_result"
    }
   ],
   "source": [
    "data_raw.shape"
   ]
  },
  {
   "cell_type": "code",
   "execution_count": 6,
   "metadata": {},
   "outputs": [],
   "source": [
    "completion = data_raw['Finished']\n",
    "useful_data = data_raw.iloc[:, 17:]\n",
    "useful_data_all = useful_data.merge(completion, left_index=True, right_index=True).iloc[2:, :]\n",
    "# filtering out unfinished response --> dataframe with only 56 complete responses\n",
    "useful_data_finished = useful_data_all[useful_data_all['Finished'] == \"1\"]"
   ]
  },
  {
   "cell_type": "code",
   "execution_count": 7,
   "metadata": {},
   "outputs": [
    {
     "name": "stdout",
     "output_type": "stream",
     "text": [
      "<class 'pandas.core.frame.DataFrame'>\n",
      "RangeIndex: 150 entries, 2 to 151\n",
      "Data columns (total 19 columns):\n",
      " #   Column    Non-Null Count  Dtype \n",
      "---  ------    --------------  ----- \n",
      " 0   Q1        145 non-null    object\n",
      " 1   Q2        145 non-null    object\n",
      " 2   Q3_1      131 non-null    object\n",
      " 3   Q3_2      131 non-null    object\n",
      " 4   Q3_3      131 non-null    object\n",
      " 5   Q3_4      131 non-null    object\n",
      " 6   Q3_5      131 non-null    object\n",
      " 7   Q3_6      131 non-null    object\n",
      " 8   Q3_7      131 non-null    object\n",
      " 9   Q4        127 non-null    object\n",
      " 10  Q5        37 non-null     object\n",
      " 11  Q6        32 non-null     object\n",
      " 12  Q7_1      125 non-null    object\n",
      " 13  Q7_2      125 non-null    object\n",
      " 14  Q7_3      125 non-null    object\n",
      " 15  Q7_4      124 non-null    object\n",
      " 16  Q7_5      125 non-null    object\n",
      " 17  Q7_6      125 non-null    object\n",
      " 18  Finished  150 non-null    object\n",
      "dtypes: object(19)\n",
      "memory usage: 22.4+ KB\n"
     ]
    }
   ],
   "source": [
    "useful_data_all.info()"
   ]
  },
  {
   "cell_type": "code",
   "execution_count": null,
   "metadata": {},
   "outputs": [],
   "source": []
  }
 ],
 "metadata": {
  "kernelspec": {
   "display_name": "Python 3",
   "language": "python",
   "name": "python3"
  },
  "language_info": {
   "codemirror_mode": {
    "name": "ipython",
    "version": 3
   },
   "file_extension": ".py",
   "mimetype": "text/x-python",
   "name": "python",
   "nbconvert_exporter": "python",
   "pygments_lexer": "ipython3",
   "version": "3.10.2"
  },
  "orig_nbformat": 4
 },
 "nbformat": 4,
 "nbformat_minor": 2
}
