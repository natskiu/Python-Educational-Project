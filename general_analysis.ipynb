{
 "cells": [
  {
   "cell_type": "code",
   "execution_count": 1,
   "metadata": {},
   "outputs": [],
   "source": [
    "import numpy as np\n",
    "import pandas as pd\n",
    "import matplotlib.pyplot as plt\n",
    "import seaborn as sns"
   ]
  },
  {
   "cell_type": "code",
   "execution_count": 2,
   "metadata": {},
   "outputs": [],
   "source": [
    "dataPath = 'data\\GeneralSurveyNumeric2023.csv'\n",
    "data_raw = pd.read_csv(dataPath)"
   ]
  },
  {
   "cell_type": "code",
   "execution_count": 3,
   "metadata": {},
   "outputs": [
    {
     "data": {
      "text/plain": [
       "(152, 35)"
      ]
     },
     "execution_count": 3,
     "metadata": {},
     "output_type": "execute_result"
    }
   ],
   "source": [
    "data_raw.shape"
   ]
  },
  {
   "cell_type": "code",
   "execution_count": 4,
   "metadata": {},
   "outputs": [],
   "source": [
    "completion = data_raw['Finished']\n",
    "useful_data = data_raw.iloc[:, 17:]\n",
    "useful_data_all = useful_data.merge(completion, left_index=True, right_index=True).iloc[2:, :]\n",
    "# filtering out unfinished response --> dataframe with only 56 complete responses\n",
    "useful_data_finished = useful_data_all[useful_data_all['Finished'] == \"1\"]"
   ]
  },
  {
   "cell_type": "code",
   "execution_count": 5,
   "metadata": {},
   "outputs": [
    {
     "name": "stdout",
     "output_type": "stream",
     "text": [
      "<class 'pandas.core.frame.DataFrame'>\n",
      "RangeIndex: 150 entries, 2 to 151\n",
      "Data columns (total 19 columns):\n",
      " #   Column    Non-Null Count  Dtype \n",
      "---  ------    --------------  ----- \n",
      " 0   Q1        145 non-null    object\n",
      " 1   Q2        145 non-null    object\n",
      " 2   Q3_1      131 non-null    object\n",
      " 3   Q3_2      131 non-null    object\n",
      " 4   Q3_3      131 non-null    object\n",
      " 5   Q3_4      131 non-null    object\n",
      " 6   Q3_5      131 non-null    object\n",
      " 7   Q3_6      131 non-null    object\n",
      " 8   Q3_7      131 non-null    object\n",
      " 9   Q4        127 non-null    object\n",
      " 10  Q5        37 non-null     object\n",
      " 11  Q6        32 non-null     object\n",
      " 12  Q7_1      125 non-null    object\n",
      " 13  Q7_2      125 non-null    object\n",
      " 14  Q7_3      125 non-null    object\n",
      " 15  Q7_4      124 non-null    object\n",
      " 16  Q7_5      125 non-null    object\n",
      " 17  Q7_6      125 non-null    object\n",
      " 18  Finished  150 non-null    object\n",
      "dtypes: object(19)\n",
      "memory usage: 22.4+ KB\n"
     ]
    }
   ],
   "source": [
    "useful_data_all.info()"
   ]
  },
  {
   "cell_type": "code",
   "execution_count": 6,
   "metadata": {},
   "outputs": [],
   "source": [
    "confidence = useful_data_all['Q3_1']\n",
    "usage = useful_data_all['Q4']\n",
    "new_df = pd.concat([confidence, usage], axis=1)\n",
    "new_df = new_df.dropna()\n",
    "new_df = new_df.astype(int)"
   ]
  },
  {
   "cell_type": "code",
   "execution_count": 7,
   "metadata": {},
   "outputs": [
    {
     "data": {
      "text/html": [
       "<div>\n",
       "<style scoped>\n",
       "    .dataframe tbody tr th:only-of-type {\n",
       "        vertical-align: middle;\n",
       "    }\n",
       "\n",
       "    .dataframe tbody tr th {\n",
       "        vertical-align: top;\n",
       "    }\n",
       "\n",
       "    .dataframe thead th {\n",
       "        text-align: right;\n",
       "    }\n",
       "</style>\n",
       "<table border=\"1\" class=\"dataframe\">\n",
       "  <thead>\n",
       "    <tr style=\"text-align: right;\">\n",
       "      <th></th>\n",
       "      <th>Q3_1</th>\n",
       "      <th>Q4</th>\n",
       "    </tr>\n",
       "  </thead>\n",
       "  <tbody>\n",
       "    <tr>\n",
       "      <th>3</th>\n",
       "      <td>4</td>\n",
       "      <td>4</td>\n",
       "    </tr>\n",
       "    <tr>\n",
       "      <th>4</th>\n",
       "      <td>5</td>\n",
       "      <td>4</td>\n",
       "    </tr>\n",
       "    <tr>\n",
       "      <th>5</th>\n",
       "      <td>2</td>\n",
       "      <td>4</td>\n",
       "    </tr>\n",
       "    <tr>\n",
       "      <th>6</th>\n",
       "      <td>5</td>\n",
       "      <td>5</td>\n",
       "    </tr>\n",
       "    <tr>\n",
       "      <th>7</th>\n",
       "      <td>4</td>\n",
       "      <td>3</td>\n",
       "    </tr>\n",
       "  </tbody>\n",
       "</table>\n",
       "</div>"
      ],
      "text/plain": [
       "   Q3_1  Q4\n",
       "3     4   4\n",
       "4     5   4\n",
       "5     2   4\n",
       "6     5   5\n",
       "7     4   3"
      ]
     },
     "execution_count": 7,
     "metadata": {},
     "output_type": "execute_result"
    }
   ],
   "source": [
    "new_df.head()"
   ]
  },
  {
   "cell_type": "code",
   "execution_count": 8,
   "metadata": {},
   "outputs": [
    {
     "data": {
      "image/png": "[encoded data removed]",
      "text/plain": [
       "<Figure size 432x288 with 1 Axes>"
      ]
     },
     "metadata": {
      "needs_background": "light"
     },
     "output_type": "display_data"
    }
   ],
   "source": [
    "sns.set_theme(style=\"white\", \n",
    "              palette=\"Spectral\",\n",
    "              rc={'figure.figsize':(8,6)})\n",
    "\n",
    "g_corr = sns.regplot(data=new_df\n",
    "                ,x='Q3_1'\n",
    "                ,y='Q4'\n",
    "                ,fit_reg = True\n",
    "                ,scatter_kws = {'alpha' : 1/4}\n",
    "                )\n",
    "\n",
    "g_corr.set(xlabel=\"Confidence of Python\"\n",
    "               ,ylabel=\"Usage of Python\"\n",
    "               ,yticks=[1,2,3,4,5]\n",
    "               ,xticks=[1,2,3,4,5]\n",
    "               ,title=\"Trend between confidence and usage of Python\")\n",
    "plt.text(4, 1, 'y = 0.3175 x + 2.8539', ha='left', va='center')\n",
    "plt.show()"
   ]
  },
  {
   "cell_type": "code",
   "execution_count": 9,
   "metadata": {},
   "outputs": [
    {
     "data": {
      "text/plain": [
       "array([1.        , 1.04040404, 1.08080808, 1.12121212, 1.16161616,\n",
       "       1.2020202 , 1.24242424, 1.28282828, 1.32323232, 1.36363636,\n",
       "       1.4040404 , 1.44444444, 1.48484848, 1.52525253, 1.56565657,\n",
       "       1.60606061, 1.64646465, 1.68686869, 1.72727273, 1.76767677,\n",
       "       1.80808081, 1.84848485, 1.88888889, 1.92929293, 1.96969697,\n",
       "       2.01010101, 2.05050505, 2.09090909, 2.13131313, 2.17171717,\n",
       "       2.21212121, 2.25252525, 2.29292929, 2.33333333, 2.37373737,\n",
       "       2.41414141, 2.45454545, 2.49494949, 2.53535354, 2.57575758,\n",
       "       2.61616162, 2.65656566, 2.6969697 , 2.73737374, 2.77777778,\n",
       "       2.81818182, 2.85858586, 2.8989899 , 2.93939394, 2.97979798,\n",
       "       3.02020202, 3.06060606, 3.1010101 , 3.14141414, 3.18181818,\n",
       "       3.22222222, 3.26262626, 3.3030303 , 3.34343434, 3.38383838,\n",
       "       3.42424242, 3.46464646, 3.50505051, 3.54545455, 3.58585859,\n",
       "       3.62626263, 3.66666667, 3.70707071, 3.74747475, 3.78787879,\n",
       "       3.82828283, 3.86868687, 3.90909091, 3.94949495, 3.98989899,\n",
       "       4.03030303, 4.07070707, 4.11111111, 4.15151515, 4.19191919,\n",
       "       4.23232323, 4.27272727, 4.31313131, 4.35353535, 4.39393939,\n",
       "       4.43434343, 4.47474747, 4.51515152, 4.55555556, 4.5959596 ,\n",
       "       4.63636364, 4.67676768, 4.71717172, 4.75757576, 4.7979798 ,\n",
       "       4.83838384, 4.87878788, 4.91919192, 4.95959596, 5.        ])"
      ]
     },
     "execution_count": 9,
     "metadata": {},
     "output_type": "execute_result"
    }
   ],
   "source": [
    "g_corr.get_lines()[0].get_xdata()"
   ]
  },
  {
   "cell_type": "code",
   "execution_count": 10,
   "metadata": {},
   "outputs": [
    {
     "data": {
      "text/plain": [
       "array([3.17152434, 3.18435447, 3.19718461, 3.21001475, 3.22284489,\n",
       "       3.23567502, 3.24850516, 3.2613353 , 3.27416544, 3.28699558,\n",
       "       3.29982571, 3.31265585, 3.32548599, 3.33831613, 3.35114626,\n",
       "       3.3639764 , 3.37680654, 3.38963668, 3.40246681, 3.41529695,\n",
       "       3.42812709, 3.44095723, 3.45378736, 3.4666175 , 3.47944764,\n",
       "       3.49227778, 3.50510791, 3.51793805, 3.53076819, 3.54359833,\n",
       "       3.55642846, 3.5692586 , 3.58208874, 3.59491888, 3.60774901,\n",
       "       3.62057915, 3.63340929, 3.64623943, 3.65906956, 3.6718997 ,\n",
       "       3.68472984, 3.69755998, 3.71039012, 3.72322025, 3.73605039,\n",
       "       3.74888053, 3.76171067, 3.7745408 , 3.78737094, 3.80020108,\n",
       "       3.81303122, 3.82586135, 3.83869149, 3.85152163, 3.86435177,\n",
       "       3.8771819 , 3.89001204, 3.90284218, 3.91567232, 3.92850245,\n",
       "       3.94133259, 3.95416273, 3.96699287, 3.979823  , 3.99265314,\n",
       "       4.00548328, 4.01831342, 4.03114355, 4.04397369, 4.05680383,\n",
       "       4.06963397, 4.0824641 , 4.09529424, 4.10812438, 4.12095452,\n",
       "       4.13378466, 4.14661479, 4.15944493, 4.17227507, 4.18510521,\n",
       "       4.19793534, 4.21076548, 4.22359562, 4.23642576, 4.24925589,\n",
       "       4.26208603, 4.27491617, 4.28774631, 4.30057644, 4.31340658,\n",
       "       4.32623672, 4.33906686, 4.35189699, 4.36472713, 4.37755727,\n",
       "       4.39038741, 4.40321754, 4.41604768, 4.42887782, 4.44170796])"
      ]
     },
     "execution_count": 10,
     "metadata": {},
     "output_type": "execute_result"
    }
   ],
   "source": [
    "g_corr.get_lines()[0].get_ydata()"
   ]
  },
  {
   "cell_type": "code",
   "execution_count": 11,
   "metadata": {},
   "outputs": [],
   "source": [
    "import scipy "
   ]
  },
  {
   "cell_type": "code",
   "execution_count": 12,
   "metadata": {},
   "outputs": [],
   "source": [
    "slope, intercept, r_value, p_value, std_err = scipy.stats.linregress(x=g_corr.get_lines()[0].get_xdata(),y=g_corr.get_lines()[0].get_ydata())"
   ]
  },
  {
   "cell_type": "code",
   "execution_count": 13,
   "metadata": {},
   "outputs": [
    {
     "data": {
      "text/plain": [
       "0.31754590498396873"
      ]
     },
     "execution_count": 13,
     "metadata": {},
     "output_type": "execute_result"
    }
   ],
   "source": [
    "slope"
   ]
  },
  {
   "cell_type": "code",
   "execution_count": 14,
   "metadata": {},
   "outputs": [
    {
     "data": {
      "text/plain": [
       "2.8539784319440393"
      ]
     },
     "execution_count": 14,
     "metadata": {},
     "output_type": "execute_result"
    }
   ],
   "source": [
    "intercept"
   ]
  },
  {
   "cell_type": "code",
   "execution_count": 22,
   "metadata": {},
   "outputs": [],
   "source": [
    "application_df = pd.DataFrame()\n",
    "application_df['The course helps me appreciate\\nwhere programming can\\nbe applied in chemistry'] = useful_data_all['Q3_3']\n",
    "application_df['I would enjoy learning\\nmore about applications\\nof Python in chemistry'] = useful_data_all['Q7_2']\n",
    "application_df = application_df.dropna()\n",
    "application_df = application_df.astype(int)"
   ]
  },
  {
   "cell_type": "code",
   "execution_count": 25,
   "metadata": {},
   "outputs": [
    {
     "data": {
      "image/png": "[encoded data removed]",
      "text/plain": [
       "<Figure size 432x288 with 1 Axes>"
      ]
     },
     "metadata": {
      "needs_background": "light"
     },
     "output_type": "display_data"
    }
   ],
   "source": [
    "g_app = sns.violinplot(data=application_df)\n",
    "g_app.set(yticks=[1,2,3,4,5]\n",
    "         ,ylabel='How much student agrees'\n",
    "         ,title='How students see the usefulness of application-based learning'\n",
    ")\n",
    "\n",
    "plt.show()"
   ]
  },
  {
   "cell_type": "code",
   "execution_count": null,
   "metadata": {},
   "outputs": [],
   "source": []
  }
 ],
 "metadata": {
  "kernelspec": {
   "display_name": "Python 3",
   "language": "python",
   "name": "python3"
  },
  "language_info": {
   "codemirror_mode": {
    "name": "ipython",
    "version": 3
   },
   "file_extension": ".py",
   "mimetype": "text/x-python",
   "name": "python",
   "nbconvert_exporter": "python",
   "pygments_lexer": "ipython3",
   "version": "3.10.2"
  },
  "orig_nbformat": 4
 },
 "nbformat": 4,
 "nbformat_minor": 2
}
