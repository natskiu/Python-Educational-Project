{
 "cells": [
  {
   "attachments": {},
   "cell_type": "markdown",
   "metadata": {},
   "source": [
    "### Lists\n",
    "<p><a href='data_structure2.ipynb'>Main - Data Structure 2 Notebook</a></p>\n",
    "<p>\n",
    "Here we are going to teach you three things:\n",
    "<ol>\n",
    "    <li><a href='https://docs.python.org/3/tutorial/datastructures.html#list-comprehensions'>How to create a list</a></li>\n",
    "    <li><a href='https://python-reference.readthedocs.io/en/latest/docs/brackets/slicing.html'>Slicing a list</a></li>\n",
    "    <li><a href='https://docs.python.org/3/tutorial/datastructures.html#more-on-lists'>Some common list methods</a></li>\n",
    "</ol>\n",
    "The cell below should hopefully serve as a rough guide on the usage of list, however, click the links above if you want a more in-depth explanation. It is also good practice to learn to read documentations and online articles when you are learning how to program. If you dislike reading, you can type these keywords in YouTube or even Google image and there are a lot of good content as well! Ask ChatGPT can be an option too. The point here is, you should learn where to look for reliable and relevant information, which is a skill we would like to help you develop in these supplementary exercises.\n",
    "</p>"
   ]
  },
  {
   "cell_type": "code",
   "execution_count": 1,
   "metadata": {},
   "outputs": [
    {
     "name": "stdout",
     "output_type": "stream",
     "text": [
      "This is how it looks like after mylist.append('haha'), mylist = ['haha']\n",
      "After the for loop,                                    mylist = ['haha', 0, 1, 2, 3, 4, 5, 6, 7, 8, 9]\n",
      "You can see that list can have homogeneous collection of data, e.g. mylist has both string and int in it \n"
     ]
    }
   ],
   "source": [
    "##################### you can create a list like this #################################\n",
    "# mylist is empty without any element\n",
    "mylist = []\n",
    "\n",
    "# we are going to use some methods to update this list\n",
    "# here, we are adding haha to mylist\n",
    "mylist.append('haha')\n",
    "print(\"This is how it looks like after mylist.append('haha'), mylist =\", mylist)\n",
    "\n",
    "# we are going to see how list is used in for loops \n",
    "# here, we are adding 1-9 to mylist\n",
    "for i in range(10):\n",
    "    mylist.append(i)\n",
    "print('After the for loop,                                    mylist =', mylist)\n",
    "print('You can see that list can have homogeneous collection of data, e.g. mylist has both string and int in it ')\n",
    "\n",
    "############################# SLICING ####################################################\n",
    "# Now, let's see how we can slice a list\n",
    "# Remember, after the previous operation, mylist = ['haha', 0, 1, 2, 3, 4, 5, 6, 7, 8, 9]\n",
    "# if I want 'haha', I should do mylist[0]\n",
    "# if I want 4-8 I should do mylist[5:10]\n",
    "# you can access the last item of the list by mylist[-1]"
   ]
  },
  {
   "attachments": {},
   "cell_type": "markdown",
   "metadata": {},
   "source": [
    "<br><b>Task 2.1</b></br>\n",
    "<p> \n",
    "After running the cell above, you should have: <br> \n",
    "mylist = ['haha', 0, 1, 2, 3, 4, 5, 6, 7, 8, 9] <br>\n",
    "<br>\n",
    "Make sure you understand how mylist is created, i.e. how the append() method and the for loop worked. Then, let's do some practices on slicing. Try to...\n",
    "<ul>\n",
    "    <li>get output: [3,4,5,6,7]</li>\n",
    "    <li>get output: 7, but using something like mylist[-1]</li>\n",
    "    <li>find a method that returns the last element of mylist, namely 9, and mylist becomes ['haha', 0, 1, 2, 3, 4, 5, 6, 7, 8]</li>\n",
    "    <br>\n",
    "</ul>\n",
    "Hint 1: rerun the cell that defines mylist before you try the method each time to re-initialise it, otherwise you might run into trouble.. <br>\n",
    "Hint 2: use the print() function to help you debug and visualise what your code is doing!\n",
    "</p>"
   ]
  },
  {
   "cell_type": "code",
   "execution_count": 2,
   "metadata": {},
   "outputs": [],
   "source": [
    "# Exercise 1\n",
    "# Output: [3,4,5,6,7]"
   ]
  },
  {
   "cell_type": "code",
   "execution_count": 3,
   "metadata": {},
   "outputs": [],
   "source": [
    "# Excercise 2\n",
    "# Output: 7"
   ]
  },
  {
   "cell_type": "code",
   "execution_count": 4,
   "metadata": {},
   "outputs": [
    {
     "name": "stdout",
     "output_type": "stream",
     "text": [
      "Does mylist look like what it should be..?\n",
      "mylist= ['haha', 0, 1, 2, 3, 4, 5, 6, 7, 8, 9] \n",
      "if not, please re-run the cell that defines mylist\n"
     ]
    }
   ],
   "source": [
    "# Excercise 3\n",
    "print('Does mylist look like what it should be..?\\nmylist=', mylist, '\\nif not, please re-run the cell that defines mylist')"
   ]
  },
  {
   "attachments": {},
   "cell_type": "markdown",
   "metadata": {},
   "source": [
    "<br><b>Task 2.2</b></br>\n",
    "Read this bit of the Python documentation on <a href = \"https://www.dataquest.io/blog/data-structures-in-python/#:~:text=Python%20has%20four%20main%20data,heterogeneous%20collection%20of%20related%20objects.\">list </a>. Choose three methods of interest and learn how to use them. "
   ]
  },
  {
   "cell_type": "code",
   "execution_count": 5,
   "metadata": {},
   "outputs": [],
   "source": [
    "# Have fun with trying out different methods for the list object :)"
   ]
  },
  {
   "attachments": {},
   "cell_type": "markdown",
   "metadata": {},
   "source": [
    "<p><a href='data_structure2.ipynb'>Main - Data Structure 2 Notebook</a></p>"
   ]
  }
 ],
 "metadata": {
  "kernelspec": {
   "display_name": "Python 3",
   "language": "python",
   "name": "python3"
  },
  "language_info": {
   "codemirror_mode": {
    "name": "ipython",
    "version": 3
   },
   "file_extension": ".py",
   "mimetype": "text/x-python",
   "name": "python",
   "nbconvert_exporter": "python",
   "pygments_lexer": "ipython3",
   "version": "3.10.2"
  },
  "orig_nbformat": 4
 },
 "nbformat": 4,
 "nbformat_minor": 2
}
