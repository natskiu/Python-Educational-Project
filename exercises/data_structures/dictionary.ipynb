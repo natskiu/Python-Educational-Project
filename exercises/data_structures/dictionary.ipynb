{
 "cells": [
  {
   "attachments": {},
   "cell_type": "markdown",
   "metadata": {},
   "source": [
    "### Dictionaries\n",
    "<p><a href='data_structure2.ipynb'>Main - Data Structure 2 Notebook</a></p>\n",
    "<p>\n",
    "Here we are going to teach you two things:\n",
    "<ol>\n",
    "    <li>An overview of Python dictionaries<br>\n",
    "    <a href='https://www.youtube.com/watch?v=daefaLgNkw0'>video</a>: a short YouTube video on dictionaries<br>\n",
    "    <a href='https://python-reference.readthedocs.io/en/latest/docs/dict/'>article</a>: a summary of Python dictionaries usage\n",
    "    </li>\n",
    "    <li>Working with a dictionary<br>\n",
    "    <a href='https://docs.python.org/3/tutorial/datastructures.html#dictionaries'>Python documentation on dictionary</a></li>\n",
    "</ol>\n",
    "The cell below should hopefully serve as a rough guide on the usage of dictionary, however, click the links above if you want a more in-depth explanation!!\n",
    "</p>\n",
    "\n",
    "<p>Essentially, a Python dictionary is a set of key: value pairs, with the requirement that the keys are unique (within one dictionary)</p>"
   ]
  },
  {
   "cell_type": "code",
   "execution_count": null,
   "metadata": {},
   "outputs": [],
   "source": [
    "# how to create a dictionary\n",
    "# METHOD 1\n",
    "dict1 = {}\n",
    "dict2 = {'Alex':1\n",
    "         ,'Bob':2\n",
    "         ,'Cam':3}\n"
   ]
  },
  {
   "cell_type": "code",
   "execution_count": null,
   "metadata": {},
   "outputs": [],
   "source": []
  }
 ],
 "metadata": {
  "language_info": {
   "name": "python"
  },
  "orig_nbformat": 4
 },
 "nbformat": 4,
 "nbformat_minor": 2
}
