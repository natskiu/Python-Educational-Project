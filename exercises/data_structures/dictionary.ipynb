{
 "cells": [
  {
   "attachments": {},
   "cell_type": "markdown",
   "metadata": {},
   "source": [
    "### Dictionaries\n",
    "<p><a href='main.ipynb'>Main - Data Structure Notebook</a></p>\n",
    "<p>\n",
    "Here we are going to teach you two things:\n",
    "<ol>\n",
    "    <li>An overview of Python dictionaries<br>\n",
    "    <a href='https://www.youtube.com/watch?v=daefaLgNkw0'>video</a>: a short YouTube video on dictionaries<br>\n",
    "    <a href='https://python-reference.readthedocs.io/en/latest/docs/dict/'>article</a>: a summary of Python dictionaries usage<br>\n",
    "    </li>\n",
    "    <li>Working with a dictionary<br>\n",
    "    <a href='https://docs.python.org/3/tutorial/datastructures.html#dictionaries'>Python documentation on dictionary</a>\n",
    "    </li>\n",
    "</ol>\n",
    "The cell below should hopefully serve as a rough guide on the usage of dictionary, however, click the links above if you want a more in-depth explanation!!\n",
    "</p>\n",
    "\n",
    "<p>Essentially, a Python dictionary is a set of key: value pairs, with the requirement that the keys are unique (within one dictionary)</p>"
   ]
  },
  {
   "cell_type": "code",
   "execution_count": 13,
   "metadata": {},
   "outputs": [
    {
     "name": "stdout",
     "output_type": "stream",
     "text": [
      "The output of dict1:  {} \n",
      "The output of dict2:  {'Alex': 1, 'Bob': 2, 'Cam': 3} \n",
      "The output of dict3:  {} \n",
      "The output of dict4:  {'Alex': 1, 'Bob': 2, 'Cam': 3}\n",
      "You can see that both methods work, and you can choose which one to use according to preferences/ needs\n"
     ]
    }
   ],
   "source": [
    "###############################               HOW TO CREATE A DICTIONARY          #########################\n",
    "######################        METHOD 1: just use the {}    ####################\n",
    "# create an empty dict\n",
    "dict1 = {}     \n",
    "# create a dict with three key value pairs\n",
    "dict2 = {'Alex':1        \n",
    "         ,'Bob':2\n",
    "         ,'Cam':3}\n",
    "\n",
    "######################  METHOD 2: use the dict constructor ######################\n",
    "# creating a\n",
    "dict3 = dict()\n",
    "# The argument (i.e. the thing we put in the constructor function) is a list with three key value paris in the form of tuples\n",
    "dict4 = dict([('Alex', 1), ('Bob', 2), ('Cam', 3)])\n",
    "\n",
    "# printing the output for you to see\n",
    "print('The output of dict1: ', dict1,\n",
    "      '\\nThe output of dict2: ', dict2,\n",
    "      '\\nThe output of dict3: ', dict3,\n",
    "      '\\nThe output of dict4: ', dict4)\n",
    "print('You can see that both methods work, and you can choose which one to use according to preferences/ needs')"
   ]
  },
  {
   "cell_type": "code",
   "execution_count": 14,
   "metadata": {},
   "outputs": [
    {
     "name": "stdout",
     "output_type": "stream",
     "text": [
      "The output of dict2 after adding new key-value pair:  {'Alex': 1, 'Bob': 2, 'Cam': 3, 'Daniel': 4}\n",
      "The output of dict2 after deleting 'Alex':  {'Bob': 2, 'Cam': 3, 'Daniel': 4}\n",
      "The value of 'Bob' is:  2\n"
     ]
    }
   ],
   "source": [
    "################################ Some useful ways to manipulate a dictionary ###########################################\n",
    "# we are using dict2 as our example \n",
    "# adding a new key value pair to dict 2\n",
    "dict2['Daniel'] = 4\n",
    "print('The output of dict2 after adding new key-value pair: ', dict2)\n",
    "\n",
    "# try the del method- we delete the 'Alex' entry\n",
    "del dict2['Alex']\n",
    "print(\"The output of dict2 after deleting 'Alex': \", dict2)\n",
    "\n",
    "# we can obtain the value of an entry by the key\n",
    "value_bob = dict2['Bob']\n",
    "print(\"The value of 'Bob' is: \", value_bob)"
   ]
  },
  {
   "attachments": {},
   "cell_type": "markdown",
   "metadata": {},
   "source": [
    "<b>Task 4.1</b>\n",
    "\n",
    "<p>\n",
    "Have a look at this image taken from the Python documentation\n",
    "<div>\n",
    "<img src=\".\\figures\\dict_usage.jpg\">\n",
    "</div>\n",
    "\n",
    "We have discussed the del method (line 7). Now try to learn:\n",
    "<ul>\n",
    "    <li>list()</li>\n",
    "    <li>sorted()</li>\n",
    "    <li>the boolean statements</li>\n",
    "</ul>\n",
    "\n",
    "Try to create the tel dict as shown in the image, but with the constructor method. Then, manipulate it using these methods/ functions. Alternatively, you can make your own dictionary and play with it. <br>\n",
    "\n",
    "If you can, try find some other dictionary methods/ functions to expand your toolbox!\n",
    "</p>"
   ]
  },
  {
   "cell_type": "code",
   "execution_count": null,
   "metadata": {},
   "outputs": [],
   "source": []
  }
 ],
 "metadata": {
  "kernelspec": {
   "display_name": "Python 3",
   "language": "python",
   "name": "python3"
  },
  "language_info": {
   "codemirror_mode": {
    "name": "ipython",
    "version": 3
   },
   "file_extension": ".py",
   "mimetype": "text/x-python",
   "name": "python",
   "nbconvert_exporter": "python",
   "pygments_lexer": "ipython3",
   "version": "3.10.2"
  },
  "orig_nbformat": 4
 },
 "nbformat": 4,
 "nbformat_minor": 2
}
