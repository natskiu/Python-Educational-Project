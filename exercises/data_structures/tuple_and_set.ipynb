{
 "cells": [
  {
   "attachments": {},
   "cell_type": "markdown",
   "metadata": {},
   "source": [
    "### 5. Tuples and Sets\n",
    "<p><a href='main.ipynb'>Main - Data Structure Notebook</a></p>\n",
    "<p>\n",
    "Here we are going to teach you about tuples and sets:\n",
    "<ol>\n",
    "    <li>An overview of tuples and sets<br>\n",
    "    <a href='https://www.youtube.com/watch?v=Mf7eFtbVxFM'>a short YouTube video</a><br>\n",
    "    N.B. He uses a Python IDE to write his code, slightly different from Jupyter Notebooks, but is actually a more common tool to write codes.<br>\n",
    "    </li>\n",
    "    <li>Working with tuples and sets<br>\n",
    "    <a href='https://docs.python.org/3/tutorial/datastructures.html#tuples-and-sequences'>Python documentation on tuples and sets</a>\n",
    "    </li>\n",
    "</ol>\n",
    "The cell below should hopefully serve as a rough guide on the usage of tuples and sets, however, click the links above if you want a more in-depth explanation!!\n",
    "</p>\n",
    "\n",
    "<p>Essentially, a tuple is like an immutable list with heterogeneous sequence of elements. A set is an unordered collection with no duplicate elements.</p>"
   ]
  },
  {
   "attachments": {},
   "cell_type": "markdown",
   "metadata": {},
   "source": [
    "#### Tuples"
   ]
  },
  {
   "cell_type": "code",
   "execution_count": 25,
   "metadata": {},
   "outputs": [
    {
     "name": "stdout",
     "output_type": "stream",
     "text": [
      "A tuple can consist of different data types, and even contain a list which is mutable ==> (1000, 'hydrogen', ['a', 'b', 'c'])\n",
      "\n",
      "We can even make a 'nested tuple', i.e. a tuple inside a tuple ==> (10, 'helium', (1, 2, 3))\n",
      "\n",
      "The tuple created with the constructor looks like this ==> (0, 'haha', 9.44) \n",
      "\n",
      "note that the constructor only takes one argument, that's why we have to put all elements in a list\n"
     ]
    }
   ],
   "source": [
    "# how to create a tuple\n",
    "t = 1000, 'hydrogen', ['a','b','c']\n",
    "print(\"A tuple can consist of different data types, and even contain a list which is mutable ==>\", t)\n",
    "nested_t = 10, 'helium', (1,2,3)\n",
    "print(\"\\nWe can even make a 'nested tuple', i.e. a tuple inside a tuple ==>\", nested_t)\n",
    "\n",
    "# alternatively, you can use the constructor\n",
    "t_constructor = tuple([0, 'haha', 9.44])\n",
    "print('\\nThe tuple created with the constructor looks like this ==>', t_constructor,\n",
    "      \"\\n\\nnote that the constructor only takes one argument, that's why we have to put all elements in a list\")"
   ]
  },
  {
   "cell_type": "code",
   "execution_count": 26,
   "metadata": {},
   "outputs": [
    {
     "ename": "TypeError",
     "evalue": "'tuple' object does not support item assignment",
     "output_type": "error",
     "traceback": [
      "\u001b[1;31m---------------------------------------------------------------------------\u001b[0m",
      "\u001b[1;31mTypeError\u001b[0m                                 Traceback (most recent call last)",
      "\u001b[1;32mc:\\Users\\venus\\Documents\\PythonEducationProject\\exercises\\data_structures\\tuple_and_set.ipynb Cell 4\u001b[0m in \u001b[0;36m<module>\u001b[1;34m\u001b[0m\n\u001b[0;32m      <a href='vscode-notebook-cell:/c%3A/Users/venus/Documents/PythonEducationProject/exercises/data_structures/tuple_and_set.ipynb#X13sZmlsZQ%3D%3D?line=0'>1</a>\u001b[0m \u001b[39m# tuples are immutable so re-assigning it will give you an error \u001b[39;00m\n\u001b[1;32m----> <a href='vscode-notebook-cell:/c%3A/Users/venus/Documents/PythonEducationProject/exercises/data_structures/tuple_and_set.ipynb#X13sZmlsZQ%3D%3D?line=1'>2</a>\u001b[0m t[\u001b[39m0\u001b[39m] \u001b[39m=\u001b[39m \u001b[39m50\u001b[39m\n",
      "\u001b[1;31mTypeError\u001b[0m: 'tuple' object does not support item assignment"
     ]
    }
   ],
   "source": [
    "# tuples are immutable so re-assigning it will give you an error \n",
    "t[0] = 50\n",
    "\n",
    "# you are supposed to get an error for this cell, don't panic\n",
    "# pretend you don't know why you get this error, copy and paste the TypeError:.... line below in Google and see if you can debug"
   ]
  },
  {
   "attachments": {},
   "cell_type": "markdown",
   "metadata": {},
   "source": [
    "<br><b>Task 5.1</b></br>\n",
    "\n",
    "<a href=\"https://www.tutorialspoint.com/python/python_tuples.htm\">more info</a> <br>\n",
    "\n",
    "Try out these features of tuples:\n",
    "<ul>\n",
    "    <li>cmp()</li>\n",
    "    <li>del</li>\n",
    "    <li>max()</li>\n",
    "    <li>len()</li>\n",
    "</ul>"
   ]
  },
  {
   "cell_type": "code",
   "execution_count": null,
   "metadata": {},
   "outputs": [],
   "source": []
  },
  {
   "attachments": {},
   "cell_type": "markdown",
   "metadata": {},
   "source": [
    "#### Sets"
   ]
  },
  {
   "cell_type": "code",
   "execution_count": 14,
   "metadata": {},
   "outputs": [
    {
     "name": "stdout",
     "output_type": "stream",
     "text": [
      "This is the output of basket:  {'apple', 'orange', 'banana', 'pear'} \n",
      "Note that the duplicates are removed...\n",
      "\n",
      "this_is_not_how_you_create_an_empty_set is  <class 'dict'> !!! A EMPTY DICTIONARY !!!\n",
      "\n",
      "So, set('abracadabra') =>  {'a', 'r', 'b', 'c', 'd'} \n",
      "again, duplicates are removed\n"
     ]
    }
   ],
   "source": [
    "# how to create a set\n",
    "basket = {'apple', 'orange', 'apple', 'pear', 'orange', 'banana'} \n",
    "\n",
    "# note that you cannot create an empty set by an_empty_set = {}, as this will give you an empty dictionary instead\n",
    "this_is_not_how_you_create_an_empty_set = {}\n",
    "print('This is the output of basket: ', basket,\n",
    "      '\\nNote that the duplicates are removed...\\n'\n",
    "      '\\nthis_is_not_how_you_create_an_empty_set is ', type(this_is_not_how_you_create_an_empty_set), '!!! A EMPTY DICTIONARY !!!\\n')\n",
    "\n",
    "# use the set constructor function to create a set\n",
    "a = set('abracadabra')\n",
    "print(\"So, set('abracadabra') => \", a, '\\nagain, duplicates are removed')"
   ]
  },
  {
   "attachments": {},
   "cell_type": "markdown",
   "metadata": {},
   "source": [
    "<br><b>Task 5.2</b></br>\n",
    "\n",
    "Set objects also support mathematical operations like union, intersection, difference, and symmetric difference. <br>\n",
    "\n",
    "Here is a <a href='https://www.w3schools.com/python/python_ref_set.asp'>list</a> of some set methods. Have fun trying them out."
   ]
  },
  {
   "cell_type": "code",
   "execution_count": null,
   "metadata": {},
   "outputs": [],
   "source": [
    "\n",
    "\n"
   ]
  }
 ],
 "metadata": {
  "kernelspec": {
   "display_name": "Python 3",
   "language": "python",
   "name": "python3"
  },
  "language_info": {
   "codemirror_mode": {
    "name": "ipython",
    "version": 3
   },
   "file_extension": ".py",
   "mimetype": "text/x-python",
   "name": "python",
   "nbconvert_exporter": "python",
   "pygments_lexer": "ipython3",
   "version": "3.10.2"
  },
  "orig_nbformat": 4
 },
 "nbformat": 4,
 "nbformat_minor": 2
}
