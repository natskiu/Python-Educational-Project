{
 "cells": [
  {
   "attachments": {},
   "cell_type": "markdown",
   "metadata": {},
   "source": [
    "# Data types and structures\n",
    "\n",
    "<p>Created by Venus Lee </p>"
   ]
  },
  {
   "attachments": {},
   "cell_type": "markdown",
   "metadata": {},
   "source": [
    "## Data Structures\n",
    "\n",
    "<p>\n",
    "Hi, welcome to this exercise. Today, you are going to learn about four fundamental in-built data structures in Python. They are \n",
    "<ul>\n",
    "    <li>Lists</li>\n",
    "    <li>Dictionaries</li>\n",
    "    <li>Tuples</li>\n",
    "    <li>Sets</li>\n",
    "</ul>\n",
    "</p>\n",
    "<div>\n",
    "    <img src=\".\\figures\\data_structure.jpg\" style=\"width:600px;height:400px;\">\n",
    "</div>\n",
    "\n",
    "<p>\n",
    "Here is the <a href='https://docs.python.org/3/tutorial/datastructures.html#'>complete Python documentation on data structures</a>. All the things we are teaching you here are derived from this 'Bible' of Python programming.\n",
    "<br>\n",
    "<br>\n",
    "You can treat documentation a bit like how you treat an A-level subject specification, essentially a document containing all you need to know to succeed in learning Python. They come in different languages (English, Chinese, Japanese, Spanish, French and so forth...) so developers all around the globe can understand the information with ease.\n",
    "</p>\n",
    "\n",
    "<p>\n",
    "<b>Extra</b><br>\n",
    "\n",
    "For those of you that are keen, check out this <a href='https://www.youtube.com/watch?v=s1PLS3SQHQ0'>video</a> that gives you a rough idea of how to search for things you need in developer documentation.\n",
    "</p>\n"
   ]
  },
  {
   "attachments": {},
   "cell_type": "markdown",
   "metadata": {},
   "source": [
    "<br><b>Task 1: Basics</b></br>\n",
    "<p>\n",
    "Go through the <a href='data_types.ipynb'>data types</a> notebook if you need a quick recap on the four basic in-built data types (strings, integers, floats and booleans) in Python. \n",
    "</p>"
   ]
  },
  {
   "attachments": {},
   "cell_type": "markdown",
   "metadata": {},
   "source": [
    "<br><b>Task 2: Data Structures</b></br>\n",
    "\n",
    "Read this <a href = \"https://www.dataquest.io/blog/data-structures-in-python/#:~:text=Python%20has%20four%20main%20data,heterogeneous%20collection%20of%20related%20objects.\">short article </a> to get a rough idea of what lists, dictionaries, tuples and sets are before you learn how to use them. Make sure you understand:\n",
    "<ul>\n",
    "    <li>Mutability</li>\n",
    "    <li>Pros and cons of each data structure</li>\n",
    "</ul>"
   ]
  },
  {
   "attachments": {},
   "cell_type": "markdown",
   "metadata": {},
   "source": [
    "<br><b>Task 3: Lists</b></br>\n",
    "<p>\n",
    "Please go to the <a href='list.ipynb'>list</a> notebook to do the exercises\n",
    "</p>"
   ]
  },
  {
   "attachments": {},
   "cell_type": "markdown",
   "metadata": {},
   "source": [
    "<br><b>Task 4: Dictionaries</b></br>\n",
    "<p>\n",
    "Please go to the <a href='dictionary.ipynb'>dictionary</a> notebook to do the exercises\n",
    "</p>"
   ]
  },
  {
   "attachments": {},
   "cell_type": "markdown",
   "metadata": {},
   "source": [
    "<br><b>Task 5: Tuples and Sets</b></br>\n",
    "<p>\n",
    "Please go to the <a href='tuple_and_set.ipynb'>tuple and set</a> notebook to do the exercises\n",
    "</p>"
   ]
  },
  {
   "attachments": {},
   "cell_type": "markdown",
   "metadata": {},
   "source": [
    "<br><b>Task 6: HW</b></br>\n",
    "<p>\n",
    "Please go to the <a href='homework.ipynb'>homework</a> notebook to do the application-based exercises that will require you to use everything you have learnt about data structures\n",
    "</p>"
   ]
  },
  {
   "attachments": {},
   "cell_type": "markdown",
   "metadata": {},
   "source": [
    "<br><b>Task 7: Reflection</b></br>\n",
    "<p>\n",
    "Think about what you have learnt in the data structure exercises and write a short summary to consolidate your understanding of the topic. Post a question on the discussion forum if you feel like it too!\n",
    "</p>"
   ]
  }
 ],
 "metadata": {
  "kernelspec": {
   "display_name": "Python 3",
   "language": "python",
   "name": "python3"
  },
  "language_info": {
   "codemirror_mode": {
    "name": "ipython",
    "version": 3
   },
   "file_extension": ".py",
   "mimetype": "text/x-python",
   "name": "python",
   "nbconvert_exporter": "python",
   "pygments_lexer": "ipython3",
   "version": "3.10.2"
  },
  "orig_nbformat": 4
 },
 "nbformat": 4,
 "nbformat_minor": 2
}
