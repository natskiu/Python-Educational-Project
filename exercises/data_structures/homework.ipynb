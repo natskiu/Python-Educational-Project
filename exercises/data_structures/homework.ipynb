{
 "cells": [
  {
   "attachments": {},
   "cell_type": "markdown",
   "metadata": {},
   "source": [
    "### Homework\n",
    "\n",
    "<p>\n",
    "Well done on completing the notebooks on data structures. Now you should have enough knowledge to complete this application-based exercise!!<br>\n",
    "\n",
    "You will use what you have learnt to store some data on your five favourite chemical elements. <br>\n",
    "\n",
    "Remember there is no 'correct' way to do it, just focus on completing the task and be creative!\n",
    "\n",
    "<img src=\".\\figures\\periodic-table.svg\" style=\"width:600px;height:400px;\">\n",
    "</p>\n",
    "\n",
    "<p>\n",
    "There are some requirements we would like you to follow<br>\n",
    "\n",
    "<b>Specifications</b>\n",
    "<ul>\n",
    "    <li>make sure you have numeric data, e.g. the atomic number</li>\n",
    "    <li>make sure you have text data, e.g. the state of this element at room temperature is 'solid'</li>\n",
    "    <li>make sure you use at least once:\n",
    "    <ol>    \n",
    "            <li>a list or tuple AND</li>\n",
    "            <li>a dictionary</li>\n",
    "    </ol>\n",
    "    </li>\n",
    "</ul>\n",
    "\n",
    "</p>"
   ]
  },
  {
   "cell_type": "code",
   "execution_count": null,
   "metadata": {},
   "outputs": [],
   "source": []
  }
 ],
 "metadata": {
  "kernelspec": {
   "display_name": "Python 3",
   "language": "python",
   "name": "python3"
  },
  "language_info": {
   "codemirror_mode": {
    "name": "ipython",
    "version": 3
   },
   "file_extension": ".py",
   "mimetype": "text/x-python",
   "name": "python",
   "nbconvert_exporter": "python",
   "pygments_lexer": "ipython3",
   "version": "3.10.2"
  },
  "orig_nbformat": 4
 },
 "nbformat": 4,
 "nbformat_minor": 2
}
