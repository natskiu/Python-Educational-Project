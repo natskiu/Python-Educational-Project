{
 "cells": [
  {
   "attachments": {},
   "cell_type": "markdown",
   "metadata": {},
   "source": [
    "# Data Storage (Part 2): List\n",
    "\n",
    "<p>Created by Venus Lee </p>\n"
   ]
  },
  {
   "attachments": {},
   "cell_type": "markdown",
   "metadata": {},
   "source": [
    "## Data Structures\n",
    "\n",
    "<p>\n",
    "Hi, welcome to this exercise. Today, you are going to learn about four fundamental in-built data structures in Python. They are \n",
    "<ul>\n",
    "    <li>Lists</li>\n",
    "    <li>Dictionaries</li>\n",
    "    <li>Tuples</li>\n",
    "    <li>Sets</li>\n",
    "</ul>\n",
    "</p>\n",
    "<div>\n",
    "    <img src=\".\\figures\\data_structure.jpg\" style=\"width:600px;height:400px;\">\n",
    "</div>\n",
    "<p>\n",
    "Visit <a href='data_structure.ipynb'>Data Storage (Part1)</a> notebook if you need a quick recap on the four basic in-built data types in Python. \n",
    "</p>\n",
    "<p>\n"
   ]
  },
  {
   "attachments": {},
   "cell_type": "markdown",
   "metadata": {},
   "source": [
    "<br><b>Task 1</b></br>\n",
    "Read this <a href = \"https://www.dataquest.io/blog/data-structures-in-python/#:~:text=Python%20has%20four%20main%20data,heterogeneous%20collection%20of%20related%20objects.\">short article </a> to get a rough idea of what lists, dictionaries, tuples and sets are before you learn how to use them. Make sure you understand:\n",
    "<ul>\n",
    "    <li>Mutability</li>\n",
    "    <li>Pros and cons of each data structure</li>\n",
    "</ul>"
   ]
  },
  {
   "attachments": {},
   "cell_type": "markdown",
   "metadata": {},
   "source": [
    "<br><b>Task 2</b></br>\n",
    "<p>\n",
    "Please go to the <a href='list.ipynb'>List</a> notebook to do the exercises\n",
    "</p>"
   ]
  },
  {
   "cell_type": "code",
   "execution_count": null,
   "metadata": {},
   "outputs": [],
   "source": []
  },
  {
   "cell_type": "code",
   "execution_count": null,
   "metadata": {},
   "outputs": [],
   "source": []
  },
  {
   "cell_type": "code",
   "execution_count": null,
   "metadata": {},
   "outputs": [],
   "source": []
  },
  {
   "attachments": {},
   "cell_type": "markdown",
   "metadata": {},
   "source": [
    "### Dictionaries"
   ]
  },
  {
   "attachments": {},
   "cell_type": "markdown",
   "metadata": {},
   "source": [
    "### Tuples and Sets"
   ]
  },
  {
   "attachments": {},
   "cell_type": "markdown",
   "metadata": {},
   "source": [
    "## Application-based Assignment"
   ]
  },
  {
   "attachments": {},
   "cell_type": "markdown",
   "metadata": {},
   "source": [
    "## Reflection"
   ]
  }
 ],
 "metadata": {
  "kernelspec": {
   "display_name": "Python 3",
   "language": "python",
   "name": "python3"
  },
  "language_info": {
   "codemirror_mode": {
    "name": "ipython",
    "version": 3
   },
   "file_extension": ".py",
   "mimetype": "text/x-python",
   "name": "python",
   "nbconvert_exporter": "python",
   "pygments_lexer": "ipython3",
   "version": "3.10.2"
  },
  "orig_nbformat": 4
 },
 "nbformat": 4,
 "nbformat_minor": 2
}
