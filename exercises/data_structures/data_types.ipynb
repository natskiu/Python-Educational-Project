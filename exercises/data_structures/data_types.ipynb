{
 "cells": [
  {
   "attachments": {},
   "cell_type": "markdown",
   "metadata": {},
   "source": [
    "# Data Types\n",
    "\n",
    "<a href='data_structure2.ipynb'>Main</a>\n",
    "\n",
    "In python the four basic primitive data types are strings, integers, floats and booleans. There are several built-in data structures that store these four primitive data such as lists, dictionaries, sets and tuples. (see <a href='main.ipynb'>main</a>) For our purposes, understanding and utilising these aformentioned concepts will suffice. However, it is good to know that there are other very useful data structures in computer science such as linked lists, hash maps, stacks, trees, queues and so forth. "
   ]
  },
  {
   "attachments": {},
   "cell_type": "markdown",
   "metadata": {},
   "source": [
    "## Primitive Data Types\n",
    "<p> Here in this notebook, we are going to learn four things:\n",
    "    <ul>\n",
    "        <li>Strings</li>\n",
    "        <li>Integers</li>\n",
    "        <li>Floats</li>\n",
    "        <li>Booleans</li>\n",
    "    </ul>\n",
    "</p>\n"
   ]
  },
  {
   "attachments": {},
   "cell_type": "markdown",
   "metadata": {},
   "source": [
    "### Strings"
   ]
  },
  {
   "cell_type": "code",
   "execution_count": null,
   "metadata": {},
   "outputs": [],
   "source": []
  },
  {
   "attachments": {},
   "cell_type": "markdown",
   "metadata": {},
   "source": [
    "### Integer and Float"
   ]
  },
  {
   "attachments": {},
   "cell_type": "markdown",
   "metadata": {},
   "source": [
    "### Booleans"
   ]
  },
  {
   "attachments": {},
   "cell_type": "markdown",
   "metadata": {},
   "source": [
    "## Application-based Assignment"
   ]
  },
  {
   "attachments": {},
   "cell_type": "markdown",
   "metadata": {},
   "source": [
    "## Reflection "
   ]
  }
 ],
 "metadata": {
  "language_info": {
   "name": "python"
  },
  "orig_nbformat": 4
 },
 "nbformat": 4,
 "nbformat_minor": 2
}
